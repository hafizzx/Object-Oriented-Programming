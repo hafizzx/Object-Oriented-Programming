{
  "cells": [
    {
      "cell_type": "markdown",
      "metadata": {
        "id": "view-in-github",
        "colab_type": "text"
      },
      "source": [
        "<a href=\"https://colab.research.google.com/github/hafizzx/Object-Oriented-Programming/blob/main/Object_Oriented_Programming_OOP.ipynb\" target=\"_parent\"><img src=\"https://colab.research.google.com/assets/colab-badge.svg\" alt=\"Open In Colab\"/></a>"
      ]
    },
    {
      "cell_type": "markdown",
      "metadata": {
        "id": "za1EllFJPDPt"
      },
      "source": [
        "1) Program-Atm Machine"
      ]
    },
    {
      "cell_type": "code",
      "execution_count": null,
      "metadata": {
        "id": "05PqeTDLPJeu"
      },
      "outputs": [],
      "source": [
        " class Atm:\n",
        "  counter = 1\n",
        "  def __init__(self):\n",
        "    self.pin = ''\n",
        "    self.__balance = 0\n",
        "    self.menu()\n",
        "    self.cid = Atm.counter\n",
        "    Atm.counter = Atm.counter + 1\n",
        "\n",
        "  def menu(self):\n",
        "    user_input = input(\"\"\"\n",
        "    Hi how can i help you?\n",
        "    1. Press 1 to create pin\n",
        "    2. press 2 to change pin\n",
        "    3. press 3 to check balance\n",
        "    4. press 4 to withdraw\n",
        "    5. Exit\n",
        "    \"\"\")\n",
        "\n",
        "    if user_input == '1':\n",
        "      self.create_pin()\n",
        "    elif user_input =='2':\n",
        "      self.change_pin()\n",
        "    elif user_input =='3':\n",
        "      self.check_balance()\n",
        "    elif user_input =='4':\n",
        "      self.withdraw()\n",
        "    else:\n",
        "      exit()\n",
        "\n",
        "\n",
        "  def create_pin(self):\n",
        "      user_pin = input('Enter your new pin')\n",
        "      self.pin = user_pin\n",
        "      user_balance = int(input('Enter your initial balance'))\n",
        "      self.__balance = user_balance\n",
        "      print('pin created successfully')\n",
        "      self.menu()\n",
        "\n",
        "  def change_pin(self):\n",
        "    old_pin = input('Enter your old pin')\n",
        "    if old_pin == self.pin:\n",
        "     new_pin = int(input('Enter ypur New pin'))\n",
        "     self.pin = new_pin\n",
        "     print('Pin changed successfully')\n",
        "     self.menu()\n",
        "    else:\n",
        "      print('your pin is incorrect')\n",
        "      self.menu()\n",
        "\n",
        "  def check_balance(self):\n",
        "    user_pin = input('Enter your pin')\n",
        "    if user_pin == self.pin:\n",
        "      print('your balance is:',self.__balance)\n",
        "    else:\n",
        "      print('your pin is incorrect.Try Again')\n",
        "    self.menu()\n",
        "\n",
        "  def withdraw(self):\n",
        "    user_pin = input('Enter your Pin')\n",
        "    if user_pin == self.pin:\n",
        "      amount = int(input('Enter the Amount'))\n",
        "      if amount <= self.__balance:\n",
        "        self.__balance = self.__balance-amount\n",
        "        print('Withdrawl successful. New Balance is:',self.__balance)\n",
        "        self.menu()\n",
        "      else:\n",
        "        print('Insufficient Balance')\n",
        "    else:\n",
        "      print('Incorrect pin Try Again')\n",
        "\n"
      ]
    },
    {
      "cell_type": "code",
      "source": [
        "hbl = Atm()\n",
        "hbl.cid\n"
      ],
      "metadata": {
        "colab": {
          "base_uri": "https://localhost:8080/"
        },
        "id": "3YnpWySzrYE9",
        "outputId": "0a2384c8-db69-421e-d024-4545b9897c96"
      },
      "execution_count": null,
      "outputs": [
        {
          "name": "stdout",
          "output_type": "stream",
          "text": [
            "\n",
            "   Hi how can i help you?\n",
            "   1. Press 1 to create pin\n",
            "   2. press 2 to change pin\n",
            "   3. press 3 to check balance\n",
            "   4. press 4 to withdraw\n",
            "   5. Exit\n",
            "   1\n",
            "Enter your new pin1234\n",
            "Enter your initial balance12345\n",
            "pin created successfully\n",
            "\n",
            "   Hi how can i help you?\n",
            "   1. Press 1 to create pin\n",
            "   2. press 2 to change pin\n",
            "   3. press 3 to check balance\n",
            "   4. press 4 to withdraw\n",
            "   5. Exit\n",
            "   \n"
          ]
        },
        {
          "output_type": "execute_result",
          "data": {
            "text/plain": [
              "1"
            ]
          },
          "metadata": {},
          "execution_count": 18
        }
      ]
    },
    {
      "cell_type": "markdown",
      "source": [
        "2) Program-Create Fraction Data Type"
      ],
      "metadata": {
        "id": "GXw76FTgkFgA"
      }
    },
    {
      "cell_type": "code",
      "source": [
        "class Fraction:\n",
        "  def __init__(self,x,y):\n",
        "    self.num = x\n",
        "    self.den = y\n",
        "\n",
        "  def __str__(self):\n",
        "    return '{}/{}'.format(self.num,self.den)\n",
        "\n",
        "  def __add__(self,other):\n",
        "    new_num =self.num*other.den + other.num*self.den\n",
        "    new_den = self.den * other.den\n",
        "    return Fraction(new_num,new_den)\n",
        "\n",
        "  def __sub__(self,other):\n",
        "    new_num =self.num*other.den - other.num*self.den\n",
        "    new_den = self.den * other.den\n",
        "    return Fraction(new_num,new_den)\n",
        "\n",
        "  def __mul__(self,other):\n",
        "    new_num =self.num*other.num\n",
        "    new_den = self.den * other.den\n",
        "    return Fraction(new_num,new_den)\n",
        "\n",
        "  def __truediv__(self,other):\n",
        "    new_num =self.num*other.den\n",
        "    new_den = self.den * other.num\n",
        "    return Fraction(new_num,new_den)\n",
        "\n"
      ],
      "metadata": {
        "id": "Sv8jDf_sHbe4"
      },
      "execution_count": null,
      "outputs": []
    },
    {
      "cell_type": "code",
      "source": [
        "fr1 = Fraction(2,3)\n",
        "fr = Fraction(4,2)\n",
        "print(fr + fr1)\n",
        "print(fr - fr1)\n",
        "print(fr * fr1)\n",
        "print(fr / fr1)\n"
      ],
      "metadata": {
        "colab": {
          "base_uri": "https://localhost:8080/"
        },
        "id": "U1kzdNBCp8Ms",
        "outputId": "5d0e492b-76f9-4483-dfa1-11200ffeb13a"
      },
      "execution_count": null,
      "outputs": [
        {
          "output_type": "stream",
          "name": "stdout",
          "text": [
            "16/6\n",
            "8/6\n",
            "8/6\n",
            "12/4\n"
          ]
        }
      ]
    },
    {
      "cell_type": "markdown",
      "source": [
        "3) Program-3D Point Class"
      ],
      "metadata": {
        "id": "XeEN9jcyRTMq"
      }
    },
    {
      "cell_type": "code",
      "source": [
        "class Point3D:\n",
        "  def __init__(self,x,y,z):\n",
        "    self.x = x\n",
        "    self.y = y\n",
        "    self.z = z\n",
        "\n",
        "  def __str__(self):\n",
        "    return '<{},{},{}>'.format(self.x,self.y,self.z)\n",
        "\n",
        "  def __add__(self,other):\n",
        "    new_x =self.x + other.x\n",
        "    new_y =self.y + other.y\n",
        "    new_z =self.z + other.z\n",
        "    return Point3D(new_x,new_y,new_z)\n",
        "\n",
        "  def __sub__(self,other):\n",
        "    new_x =self.x - other.x\n",
        "    new_y =self.y - other.y\n",
        "    new_z =self.z - other.z\n",
        "    return Point3D(new_x,new_y,new_z)\n",
        "\n",
        "  def __mul__(self,other):\n",
        "    new_x =self.x * other.x\n",
        "    new_y =self.y * other.y\n",
        "    new_z =self.z * other.z\n",
        "    return Point3D(new_x,new_y,new_z)\n",
        "\n",
        "  def __eq__(self,other):\n",
        "    return self.x == other.x and self.y == other.y and self.z == other.z\n",
        "\n",
        "  def distance_from_origin(self):\n",
        "    return (self.x**2 + self.y**2 + self.z**2) **0.5\n",
        "\n"
      ],
      "metadata": {
        "id": "ZAo315cHRazd"
      },
      "execution_count": null,
      "outputs": []
    },
    {
      "cell_type": "code",
      "source": [
        "p1 = Point3D(1,2,3)\n",
        "p2 = Point3D(7,8,9)\n",
        "print('Addition P1 + P2 =',p1 + p2)\n",
        "print('Subtraction P1 - P2 =',p1 - p2)\n",
        "print('Multiplication P1 * P2 =',p2 * p1)\n",
        "print('check P1 == p2?',p1 == p2)\n",
        "print('Distance of P1 from origin is: ',p1.distance_from_origin())\n",
        "print('Distance of P2 from origin is: ',p2.distance_from_origin())\n"
      ],
      "metadata": {
        "colab": {
          "base_uri": "https://localhost:8080/"
        },
        "id": "YO8mcS3-Syy_",
        "outputId": "2656462f-3ce1-4b85-d992-9647afed38fa"
      },
      "execution_count": null,
      "outputs": [
        {
          "output_type": "stream",
          "name": "stdout",
          "text": [
            "Addition P1 + P2 = (8,10,12)\n",
            "Subtraction P1 - P2 = (-6,-6,-6)\n",
            "Multiplication P1 * P2 = (7,16,27)\n",
            "check P1 == p2? False\n",
            "Distance of P1 from origin is:  3.7416573867739413\n",
            "Distance of P2 from origin is:  13.92838827718412\n"
          ]
        }
      ]
    },
    {
      "cell_type": "markdown",
      "source": [
        "4) Peogram-Write OOP classes to handle the following scenarios:\n",
        "\n",
        "\n",
        "* A user can create and view 2D coordinates\n",
        "* A user can find out the distance between 2 coordinates\n",
        "* A user can find find the distance of a coordinate from origin\n",
        "* A user can check if a point lies on a given line\n",
        "* A user can find the distance between a given 2D point and a given line\n",
        "\n",
        "\n"
      ],
      "metadata": {
        "id": "s6M7AflBNM9i"
      }
    },
    {
      "cell_type": "code",
      "source": [
        "class Point:\n",
        "  def __init__(self,x,y):\n",
        "    self.x = x\n",
        "    self.y = y\n",
        "\n",
        "  def __str__(self):\n",
        "    return '<{},{}>'.format(self.x,self.y)\n",
        "\n",
        "  def euclidean_distance(self,other):\n",
        "    return ((other.x - self.x)**2 + (other.y - self.y)**2)**0.5\n",
        "\n",
        "  def distance_from_origin(self):\n",
        "    return self.euclidean_distance(Point(0,0))\n",
        "    # return (self.x**2 + self.y**2)**0.5\n",
        "\n",
        "class Line:\n",
        "  def __init__(self,A,B,C):\n",
        "    self.A = A\n",
        "    self.B = B\n",
        "    self.C = C\n",
        "\n",
        "  def __str__(self):\n",
        "    b_sign = '-' if self.B < 0 else '+'\n",
        "    c_sign = '-' if self.C < 0 else '+'\n",
        "    return '{}x {} {}y {} {}'.format(self.A,b_sign,abs(self.B),c_sign,abs(self.C))\n",
        "\n",
        "  def point_on_line(line,point):\n",
        "    if line.A*point.x + line.B*point.y + line.C == 0:\n",
        "      return 'Point lies in the Line'\n",
        "    else:\n",
        "      return 'Point does not lies in the point'\n",
        "\n",
        "  def shortest_distance(Line,Point):\n",
        "    return abs(Line.A*Point.x + Line.B*Point.y + Line.C)/(Line.A**2 + Line.B**2)**0.5\n",
        "\n",
        "  def lines_intersection(Line1 , Line2):\n",
        "    if Line1.A*Line2.B - Line2.A*Line1.B !=0:\n",
        "      print('Two lines intersect at a single point')\n",
        "    else:\n",
        "      print('Two lines do not intersect')\n",
        "\n"
      ],
      "metadata": {
        "id": "iBCkOsDKNR0m"
      },
      "execution_count": null,
      "outputs": []
    },
    {
      "cell_type": "code",
      "source": [
        "l = Line(2,-4,-5)\n",
        "l1 = Line(2,-4,5)\n",
        "p = Point(1,1)\n",
        "print(l)\n",
        "print(p)\n",
        "print(l.point_on_line(p))\n",
        "l.shortest_distance(p)\n",
        "l.lines_intersection(l1)"
      ],
      "metadata": {
        "colab": {
          "base_uri": "https://localhost:8080/"
        },
        "id": "WD5TFL4KVIBC",
        "outputId": "a99a541b-3206-42cf-f5ad-06200501f918"
      },
      "execution_count": null,
      "outputs": [
        {
          "output_type": "stream",
          "name": "stdout",
          "text": [
            "2x - 4y - 5\n",
            "<1,1>\n",
            "Point does not lies in the point\n",
            "Two lines do not intersect\n"
          ]
        }
      ]
    },
    {
      "cell_type": "markdown",
      "source": [
        "**5) Program-UMS University Management System**"
      ],
      "metadata": {
        "id": "kOmbOqkuC5Te"
      }
    },
    {
      "cell_type": "code",
      "source": [
        "class University:\n",
        "    university_name = \"OpenAI University\"  # Static/Class Variable\n",
        "\n",
        "    def __init__(self, name, age, student_id, course):\n",
        "        self.__name = name                 # Private instance variable\n",
        "        self.__age = age                   # Private instance variable\n",
        "        self.__student_id = student_id     # Private instance variable\n",
        "        self.__course = course             # Private instance variable\n",
        "\n",
        "    # Instance Method - Getters\n",
        "    def get_name(self):\n",
        "        return self.__name\n",
        "\n",
        "    def get_age(self):\n",
        "        return self.__age\n",
        "\n",
        "    def get_student_id(self):\n",
        "        return self.__student_id\n",
        "\n",
        "    def get_course(self):\n",
        "        return self.__course\n",
        "\n",
        "    # Instance Method - Setters\n",
        "    def set_name(self, name):\n",
        "        self.__name = name\n",
        "\n",
        "    def set_age(self, age):\n",
        "        if age > 0:\n",
        "            self.__age = age\n",
        "\n",
        "    def set_course(self, course):\n",
        "        self.__course = course\n",
        "\n",
        "    # Display student information\n",
        "    def display_info(self):\n",
        "        print(f\"Student ID: {self.__student_id}\")\n",
        "        print(f\"Name: {self.__name}\")\n",
        "        print(f\"Age: {self.__age}\")\n",
        "        print(f\"Course: {self.__course}\")\n",
        "        print(f\"University: {University.university_name}\")\n",
        "\n",
        "    # Static Method\n",
        "    @staticmethod\n",
        "    def change_university_name(new_name):\n",
        "        University.university_name = new_name\n"
      ],
      "metadata": {
        "id": "qcVhJ6qgZc8w"
      },
      "execution_count": null,
      "outputs": []
    },
    {
      "cell_type": "code",
      "source": [
        "student1 = University(\"Alice\", 20, 1001, \"Computer Science\")\n",
        "\n",
        "University.change_university_name('University of The Punjab')\n",
        "\n",
        "student1.set_name('Abdullah')\n",
        "student1.display_info()"
      ],
      "metadata": {
        "colab": {
          "base_uri": "https://localhost:8080/"
        },
        "id": "1T_is1t6vVkw",
        "outputId": "ef80032e-0a3c-458d-ae24-e5727f594714"
      },
      "execution_count": null,
      "outputs": [
        {
          "output_type": "stream",
          "name": "stdout",
          "text": [
            "Student ID: 1001\n",
            "Name: Abdullah\n",
            "Age: 20\n",
            "Course: Computer Science\n",
            "University: University of The Punjab\n"
          ]
        }
      ]
    },
    {
      "cell_type": "code",
      "source": [],
      "metadata": {
        "id": "RslpnSvMzzdi"
      },
      "execution_count": null,
      "outputs": []
    },
    {
      "cell_type": "markdown",
      "source": [
        "**6) Program-Ice-Cream Scoops and Bowl shop**\n",
        "\n",
        "\n",
        "*   Create a class Scoop which has one public property flavor and one private proptery price. Take flavor values during object creation.\n",
        "*   Create a class Bowl with private prperty scoop_list which will have list of scoopd object.\n",
        "*  Create a method add_scoops in Bowl class which will add any no of Scoop objects given as parameter and store it in scoops_list.\n",
        "*   Make getter and setter method for price property.\n",
        "\n",
        "*   Make a method display to display flavour and price of each Scoop in scoop_list and print total price of the bowl by adding all flavour scoops prices.\n",
        "\n",
        "*   Make a method sold in both Scoop class and Bowl class to print no of quantity sold.\n",
        "\n",
        "\n",
        "\n",
        "\n",
        "\n",
        "\n",
        "\n",
        "\n",
        "\n"
      ],
      "metadata": {
        "id": "0-WeJP9Czd8C"
      }
    },
    {
      "cell_type": "code",
      "source": [
        "class Scoop:\n",
        "    __sold_count = 0\n",
        "\n",
        "    def __init__(self, flavour, price):\n",
        "        self.flavour = flavour\n",
        "        self.__price = price\n",
        "        Scoop.__sold_count += 1\n",
        "\n",
        "    def get_price(self):\n",
        "        return self.__price\n",
        "    def set_price(self,new_price):\n",
        "      self.__price = new_price\n",
        "\n",
        "    def display_info(self):\n",
        "      return 'flavour is:{},Price is:{}'.format(self.flavour,self.__price)\n",
        "    @classmethod\n",
        "    def get_sold_count(cls):\n",
        "      return cls.__sold_count\n",
        "\n",
        "class Bowl:\n",
        "    __bowl_sold_count = 0\n",
        "\n",
        "    def __init__(self):\n",
        "        self.__scoop_list = []\n",
        "        Bowl.__bowl_sold_count += 1\n",
        "\n",
        "    def add_scoops(self, *scoops):\n",
        "        for scoop in scoops:\n",
        "            self.__scoop_list.append(scoop)\n",
        "\n",
        "    def display(self):\n",
        "        total = 0\n",
        "        for scoop in self.__scoop_list:\n",
        "            print(scoop.display_info())\n",
        "            total += scoop.get_price()\n",
        "        print(\"Total Bowl Price:\", total)\n",
        "\n",
        "    @classmethod\n",
        "    def sold(cls):\n",
        "        return cls.__bowl_sold_count\n"
      ],
      "metadata": {
        "id": "9zP9ym0molcd"
      },
      "execution_count": null,
      "outputs": []
    },
    {
      "cell_type": "code",
      "source": [
        "\n",
        "s1 = Scoop(\"Vanilla\", 40)\n",
        "s2 = Scoop(\"Mango\", 45)\n",
        "s3 = Scoop(\"Chocolate\", 150)\n",
        "\n",
        "b1 = Bowl()\n",
        "b1.add_scoops(s1, s2, s3)\n",
        "b1.display()\n",
        "\n",
        "b2 = Bowl()\n",
        "b2.add_scoops(s3, s2)\n",
        "b2.display()\n",
        "\n",
        "print(\"Total Scoops Sold:\", Scoop.get_sold_count())\n",
        "print(\"Total Bowls Sold:\", Bowl.sold())\n"
      ],
      "metadata": {
        "colab": {
          "base_uri": "https://localhost:8080/"
        },
        "id": "beSFmOStqDML",
        "outputId": "6459f263-dcbe-4a13-b647-e88452f9639c"
      },
      "execution_count": null,
      "outputs": [
        {
          "output_type": "stream",
          "name": "stdout",
          "text": [
            "flavour is:Vanilla,Price is:40\n",
            "flavour is:Mango,Price is:45\n",
            "flavour is:Chocolate,Price is:150\n",
            "Total Bowl Price: 235\n",
            "flavour is:Chocolate,Price is:150\n",
            "flavour is:Mango,Price is:45\n",
            "Total Bowl Price: 195\n",
            "Total Scoops Sold: 8\n",
            "Total Bowls Sold: 4\n"
          ]
        }
      ]
    },
    {
      "cell_type": "markdown",
      "source": [
        "**7) UMS University Management System**\n",
        "\n",
        "\n",
        "*   Using All OOP concepts\n",
        "*   Constructor-Static Methods-Aggregation-Inheritance-Polymorphysim\n",
        "\n"
      ],
      "metadata": {
        "id": "VlxFU9HPowwZ"
      }
    },
    {
      "cell_type": "code",
      "source": [
        "class Person:\n",
        "\n",
        "  def __init__(self,name,age):\n",
        "    self.name = name\n",
        "    self.age = age\n",
        "\n",
        "  def display_info(self):\n",
        "    print('Name :',self.name)\n",
        "    print('Age :',self.age)\n",
        "\n",
        "class Student(Person):\n",
        "  student_count = 0\n",
        "  def __init__(self,name,age,roll_no,program):\n",
        "    super().__init__(name,age)\n",
        "    self.roll_no = roll_no\n",
        "    self.program = program\n",
        "    Student.student_count +=1\n",
        "\n",
        "  def display_info(self):\n",
        "    super().display_info()\n",
        "    print('Roll no :',self.roll_no)\n",
        "    print('Program :',self.program)\n",
        "    print('*' * 20)\n",
        "\n",
        "  def Total_students(self):\n",
        "    return self.student_count\n",
        "\n",
        "class Faculty(Person):\n",
        "  employee_count = 0\n",
        "  def __init__(self,name,age,emp_id,department):\n",
        "    super().__init__(name,age)\n",
        "    self.emp_id = emp_id\n",
        "    self.department = department\n",
        "    Faculty.employee_count +=1\n",
        "\n",
        "  def display_info(self):\n",
        "    super().display_info()\n",
        "    print('Employee Id :',self.emp_id)\n",
        "    print('Department :',self.department)\n",
        "    print('*' * 20)\n",
        "\n",
        "  def Total_faculty(self):\n",
        "    return self.employee_count\n",
        "\n",
        "class University:\n",
        "  def __init__(self,uni_name):\n",
        "    self.uni_name = uni_name\n",
        "    self.students = []\n",
        "    self.faculty_staff = []\n",
        "\n",
        "  def add_student(self,student):\n",
        "    self.students.append(student)\n",
        "\n",
        "  def add_faculty(self,faculty):\n",
        "    self.faculty_staff.append(faculty)\n",
        "\n",
        "  def show_students(self):\n",
        "    for student in self.students:\n",
        "      student.display_info()\n",
        "\n",
        "  def show_faculty(self):\n",
        "    for faculty in self.faculty_staff:\n",
        "      faculty.display_info()\n",
        "\n",
        "  def summary(self):\n",
        "    print('University Name :',(self.uni_name))\n",
        "    print('Total Students :',len(self.students))\n",
        "    print('Total Faculty :',len(self.faculty_staff))\n",
        "\n",
        "\n",
        "\n",
        "\n"
      ],
      "metadata": {
        "id": "mMf-dXs5QH2p"
      },
      "execution_count": null,
      "outputs": []
    },
    {
      "cell_type": "code",
      "source": [
        "\n",
        "s1 = Student('Abdullah',21,'2024-ai-058','AI')\n",
        "f1 = Faculty('Prof.Farhan',44,'1990-cs-007','CS')\n",
        "s2 = Student('Abdullah',21,'2024-ai-058','AI')\n",
        "f2 = Faculty('Prof.Farhan',44,'1990-cs-007','CS')\n",
        "s3 = Student('Abdullah',21,'2024-ai-058','AI')\n",
        "f3 = Faculty('Prof.Farhan',44,'1990-cs-007','CS')\n",
        "u1 = University('UMT')\n",
        "f4 = Faculty('Prof.Farhan',44,'1990-cs-007','CS')\n",
        "\n",
        "u1.add_student(s1)\n",
        "u1.add_faculty(f1)\n",
        "u1.show_faculty()\n",
        "u1.show_students()\n",
        "u1.summary()\n",
        "\n",
        "print('Total Students :',Student.student_count)\n",
        "print('Total Faculty :',Faculty.employee_count)\n"
      ],
      "metadata": {
        "colab": {
          "base_uri": "https://localhost:8080/"
        },
        "id": "2YXDHWO2sFnJ",
        "outputId": "834071dc-4c2b-4cd1-936f-29e028ea5cc2"
      },
      "execution_count": null,
      "outputs": [
        {
          "output_type": "stream",
          "name": "stdout",
          "text": [
            "Name : Prof.Farhan\n",
            "Age : 44\n",
            "Employee Id : 1990-cs-007\n",
            "Department : CS\n",
            "********************\n",
            "Name : Abdullah\n",
            "Age : 21\n",
            "Roll no : 2024-ai-058\n",
            "Program : AI\n",
            "********************\n",
            "University Name : UMT\n",
            "Total Students : 1\n",
            "Total Faculty : 1\n",
            "Total Students : 3\n",
            "Total Faculty : 4\n"
          ]
        }
      ]
    },
    {
      "cell_type": "markdown",
      "source": [
        "**8) Rental Car System**\n",
        "\n",
        "\n",
        "1.   Using all OPP Concepts\n",
        "2.   Multiple Classes - Methods\n",
        "\n"
      ],
      "metadata": {
        "id": "AG0pCI2ZzsCL"
      }
    },
    {
      "cell_type": "code",
      "source": [
        "class Car:\n",
        "  def __init__(self,id,brand,model,year,rent_per_day):\n",
        "    self.id = id\n",
        "    self.brand = brand\n",
        "    self.model = model\n",
        "    self.year = year\n",
        "    self.rent_per_day = rent_per_day\n",
        "    self.is_available = True\n",
        "\n",
        "  def display_car_info(self):\n",
        "    status = 'Available' if self.is_available else 'Rent out'\n",
        "    print('Car id: ',self.id)\n",
        "    print('Car Brand: ',self.brand)\n",
        "    print('Car Model: ',self.model)\n",
        "    print('Car Year: ',self.year)\n",
        "    print('Rent per day: ',self.rent_per_day)\n",
        "    print('Status: ',status)\n",
        "    print('*' * 20)\n",
        "\n",
        "class Customer:\n",
        "  def __init__(self,id,name,phone):\n",
        "    self.id = id\n",
        "    self.name = name\n",
        "    self.phone = phone\n",
        "    self.rented_cars = []\n",
        "\n",
        "  def rent_car(self,car):\n",
        "    if car.is_available:\n",
        "      car.is_available = False\n",
        "      self.rented_cars.append(car)\n",
        "      print(self.name ,'Rented',car.brand,car.model)\n",
        "    else:\n",
        "      print(car.brand,car.model, 'is not available')\n",
        "\n",
        "    def return_car(self,car):\n",
        "      if car in self.rented_car:\n",
        "        car.is_available = True\n",
        "        self.rented_cars.remove(car)\n",
        "        print(self.name,'Returned',car.brand,car.model)\n",
        "      else:\n",
        "        print(self.name,'Not Returned',car.brand,car.model)\n",
        "\n",
        "  def list_rented_cars(self):\n",
        "      if not self.rented_cars:\n",
        "        print(self.name,'has not rented any cars')\n",
        "      else:\n",
        "        print(self.name,' has rented the following cars:')\n",
        "        for car in self.rented_cars:\n",
        "          car.display_car_info()\n",
        "\n",
        "class RentalSystem:\n",
        "  def __init__(self):\n",
        "    self.cars =[]\n",
        "    self.customers =[]\n",
        "\n",
        "  def add_car(self,car):\n",
        "    self.cars.append(car)\n",
        "\n",
        "  def add_customer(self,customer):\n",
        "    self.customers.append(customer)\n",
        "\n",
        "  def show_available_cars(self):\n",
        "    print('Available cars are:')\n",
        "    for car in self.cars:\n",
        "      if car.is_available:\n",
        "        car.display_car_info()\n",
        "\n",
        "\n",
        "\n",
        "\n",
        "\n",
        "\n"
      ],
      "metadata": {
        "id": "Ie4ms1U_O7eQ"
      },
      "execution_count": null,
      "outputs": []
    },
    {
      "cell_type": "code",
      "source": [
        "c1 = Car(1,'Toyota','Corola',2024,7000)\n",
        "c2 = Car(2,'Toyota','mark X',2012,6000)\n",
        "c3 = Car(3,'Honda','Civic',2019,9000)\n",
        "c4 = Car(4,'Audi','A7',2020,17000)\n",
        "c5 = Car(5,'Audi','Q8',2025,27000)\n",
        "c6 = Car(6,'Suzuki','Swift',2022,5000)\n",
        "c1.display_car_info()\n",
        "c2.display_car_info()\n",
        "c3.display_car_info()\n",
        "c4.display_car_info()\n",
        "c5.display_car_info()\n",
        "c6.display_car_info()\n",
        "cus1 = Customer(1,'Abdullah','03254135128')\n",
        "cus1.rent_car(c4)\n",
        "cus1.rent_car(c5)\n",
        "cus2 = Customer(2,'Hadi','03244805317')\n",
        "cus2.rent_car(c1)\n",
        "cus2.rent_car(c6)"
      ],
      "metadata": {
        "colab": {
          "base_uri": "https://localhost:8080/"
        },
        "id": "uXRuvUSpr0Jz",
        "outputId": "09509c0d-644a-4d71-fcf6-2de0b5a6dafe"
      },
      "execution_count": null,
      "outputs": [
        {
          "output_type": "stream",
          "name": "stdout",
          "text": [
            "Car id:  1\n",
            "Car Brand:  Toyota\n",
            "Car Model:  Corola\n",
            "Car Year:  2024\n",
            "Rent per day:  7000\n",
            "Status:  Available\n",
            "********************\n",
            "Car id:  2\n",
            "Car Brand:  Toyota\n",
            "Car Model:  mark X\n",
            "Car Year:  2012\n",
            "Rent per day:  6000\n",
            "Status:  Available\n",
            "********************\n",
            "Car id:  3\n",
            "Car Brand:  Honda\n",
            "Car Model:  Civic\n",
            "Car Year:  2019\n",
            "Rent per day:  9000\n",
            "Status:  Available\n",
            "********************\n",
            "Car id:  4\n",
            "Car Brand:  Audi\n",
            "Car Model:  A7\n",
            "Car Year:  2020\n",
            "Rent per day:  17000\n",
            "Status:  Available\n",
            "********************\n",
            "Car id:  5\n",
            "Car Brand:  Audi\n",
            "Car Model:  Q8\n",
            "Car Year:  2025\n",
            "Rent per day:  27000\n",
            "Status:  Available\n",
            "********************\n",
            "Car id:  6\n",
            "Car Brand:  Suzuki\n",
            "Car Model:  Swift\n",
            "Car Year:  2022\n",
            "Rent per day:  5000\n",
            "Status:  Available\n",
            "********************\n",
            "Abdullah Rented Audi A7\n",
            "Abdullah Rented Audi Q8\n",
            "Hadi Rented Toyota Corola\n",
            "Hadi Rented Suzuki Swift\n"
          ]
        }
      ]
    },
    {
      "cell_type": "code",
      "source": [
        "rs1 = RentalSystem()\n",
        "rs1.add_car(c1)\n",
        "rs1.add_car(c2)\n",
        "rs1.add_car(c3)\n",
        "rs1.add_car(c4)\n",
        "rs1.add_car(c5)\n",
        "rs1.add_car(c6)\n",
        "rs1.add_customer(cus1)\n",
        "rs1.add_customer(cus2)\n",
        "rs1.show_available_cars()\n",
        "cus1.list_rented_cars()\n",
        "cus2.list_rented_cars()\n",
        "\n",
        "\n",
        "\n",
        "\n",
        "\n"
      ],
      "metadata": {
        "colab": {
          "base_uri": "https://localhost:8080/"
        },
        "id": "Gjk_Px_Vd1CA",
        "outputId": "fa464e51-4196-46e5-87a4-a13bf1ba6987"
      },
      "execution_count": null,
      "outputs": [
        {
          "output_type": "stream",
          "name": "stdout",
          "text": [
            "Available cars are:\n",
            "Car id:  2\n",
            "Car Brand:  Toyota\n",
            "Car Model:  mark X\n",
            "Car Year:  2012\n",
            "Rent per day:  6000\n",
            "Status:  Available\n",
            "********************\n",
            "Car id:  3\n",
            "Car Brand:  Honda\n",
            "Car Model:  Civic\n",
            "Car Year:  2019\n",
            "Rent per day:  9000\n",
            "Status:  Available\n",
            "********************\n",
            "Abdullah  has rented the following cars:\n",
            "Car id:  4\n",
            "Car Brand:  Audi\n",
            "Car Model:  A7\n",
            "Car Year:  2020\n",
            "Rent per day:  17000\n",
            "Status:  Rent out\n",
            "********************\n",
            "Car id:  5\n",
            "Car Brand:  Audi\n",
            "Car Model:  Q8\n",
            "Car Year:  2025\n",
            "Rent per day:  27000\n",
            "Status:  Rent out\n",
            "********************\n",
            "Hadi  has rented the following cars:\n",
            "Car id:  1\n",
            "Car Brand:  Toyota\n",
            "Car Model:  Corola\n",
            "Car Year:  2024\n",
            "Rent per day:  7000\n",
            "Status:  Rent out\n",
            "********************\n",
            "Car id:  6\n",
            "Car Brand:  Suzuki\n",
            "Car Model:  Swift\n",
            "Car Year:  2022\n",
            "Rent per day:  5000\n",
            "Status:  Rent out\n",
            "********************\n"
          ]
        }
      ]
    }
  ],
  "metadata": {
    "colab": {
      "provenance": [],
      "authorship_tag": "ABX9TyNj0bwkYClBqq1c/oJGoqYg",
      "include_colab_link": true
    },
    "kernelspec": {
      "display_name": "Python 3",
      "name": "python3"
    },
    "language_info": {
      "name": "python"
    }
  },
  "nbformat": 4,
  "nbformat_minor": 0
}